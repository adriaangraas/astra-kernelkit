{
 "cells": [
  {
   "metadata": {},
   "cell_type": "markdown",
   "source": [
    "# KernelKit concepts explained in code\n",
    "\n",
    "This notebook is provided along the tutorial _KernelKit concepts explained in\n",
    "code_, found in the main documentation.\n",
    "\n",
    "The codes in this notebook are modified for the purpose of demonstration and readability. Take the KernelKit sources\n",
    "as a starting point for your own projects."
   ],
   "id": "8bfd4f08e83638f6"
  },
  {
   "metadata": {
    "ExecuteTime": {
     "end_time": "2024-08-08T13:12:06.082337Z",
     "start_time": "2024-08-08T13:12:06.079468Z"
    }
   },
   "cell_type": "code",
   "source": [
    "import cupy as cp\n",
    "import kernelkit\n",
    "import matplotlib.pyplot as plt\n",
    "import numpy as np"
   ],
   "id": "ba6ec68c2dc1b017",
   "outputs": [],
   "execution_count": 7
  },
  {
   "metadata": {},
   "cell_type": "markdown",
   "source": "## 1. CUDA source\n",
   "id": "d66eb13a53e7c0e2"
  },
  {
   "cell_type": "code",
   "id": "initial_id",
   "metadata": {
    "collapsed": true,
    "ExecuteTime": {
     "end_time": "2024-08-08T13:12:08.648055Z",
     "start_time": "2024-08-08T13:12:08.645888Z"
    }
   },
   "source": [
    "cuda_source = \"\"\"\n",
    "__device__ __inline__ float linearly_interpolate(\n",
    "    const float * sinogram,\n",
    "    const int i,\n",
    "    const int nr_pixels,\n",
    "    const float x\n",
    ") {\n",
    "    if (x < 0.0 || x >= nr_pixels)\n",
    "        return 0.0;\n",
    "    float y1 = sinogram[i * nr_pixels + int(floor(x))];\n",
    "    float y2 = sinogram[i * nr_pixels + int(ceil(x))];\n",
    "    return y1 + (y2 - y1) * (x - floor(x));\n",
    "}\n",
    "\n",
    "__global__ void demo_fan_bp(\n",
    "    float * volume, float * sinogram, float * angles,\n",
    "    int nr_angles, int nr_voxels_x, int nr_voxels_y, int nr_pixels,\n",
    "    float src_obj_dist, float obj_det_dist\n",
    ") {\n",
    "    // X, Y are the voxel's center coordinates of this thread\n",
    "    unsigned x = blockIdx.x * blockDim.x + threadIdx.x;\n",
    "    unsigned y = blockIdx.y * blockDim.y + threadIdx.y;\n",
    "    float X = float(x) - nr_voxels_x / 2.0 + 0.5;\n",
    "    float Y = float(y) - nr_voxels_y / 2.0 + 0.5;\n",
    "\n",
    "    // ignore threads outside the volume\n",
    "    if (x >= nr_voxels_x || y >= nr_voxels_y)\n",
    "        return;\n",
    "\n",
    "    for (int i = 0; i < nr_angles; i++) {\n",
    "        // project the voxel (X, Y) onto a coordinate U on the detector line\n",
    "        float src_sin = sin(angles[i]);\n",
    "        float src_cos = cos(angles[i]);\n",
    "        float ray_fact = (src_obj_dist + obj_det_dist)\n",
    "                         / (src_obj_dist + -src_cos * Y + src_sin * X);\n",
    "        float U = (src_cos * X + src_sin * Y ) * ray_fact + nr_pixels / 2.0;\n",
    "\n",
    "        // linearly interpolate the value at U from sinogram gridpoints\n",
    "        volume[y * nr_voxels_x + x] += linearly_interpolate(sinogram, i, nr_pixels, U);\n",
    "    }\n",
    "}\n",
    "\"\"\""
   ],
   "outputs": [],
   "execution_count": 8
  },
  {
   "metadata": {},
   "cell_type": "markdown",
   "source": "## 2. kernelkit.Kernel",
   "id": "59096d3b8936e9b3"
  },
  {
   "metadata": {
    "ExecuteTime": {
     "end_time": "2024-08-08T13:12:09.915018Z",
     "start_time": "2024-08-08T13:12:09.911728Z"
    }
   },
   "cell_type": "code",
   "source": [
    "class DemoFanBp(kernelkit.kernel.BaseKernel):\n",
    "    \"\"\"Fanbeam backprojection for circular geometry.\"\"\"\n",
    "\n",
    "    def __init__(self):\n",
    "        super().__init__(cuda_source)\n",
    "\n",
    "    def compile(self):\n",
    "        self._compile((\"demo_fan_bp\",))\n",
    "\n",
    "    def __call__(self, volume: cp.ndarray, sinogram: cp.ndarray,\n",
    "                 angles: cp.ndarray, src_dist: float, det_dist: float):\n",
    "        # here we retrieve a function using CuPy\n",
    "        demo_fan_bp = self._module.get_function(\"demo_fan_bp\")\n",
    "\n",
    "        # calling the module launches the kernel from the code example above\n",
    "        demo_fan_bp(\n",
    "            (32, 32),                                                # CUDA threads\n",
    "            (volume.shape[1] // 32 + 1, volume.shape[0] // 32 + 1),  # CUDA blocks\n",
    "            (                                                        # arguments\n",
    "                volume, sinogram, angles,\n",
    "                len(angles), *volume.T.shape, sinogram.shape[1],  # width, height, det_count\n",
    "                cp.float32(src_dist), cp.float32(det_dist)\n",
    "            )\n",
    "        )"
   ],
   "id": "3fae980c73b1a2c8",
   "outputs": [],
   "execution_count": 9
  },
  {
   "metadata": {},
   "cell_type": "markdown",
   "source": [
    "In principle, we can already use the kernel for backprojection. The following\n",
    "example creates a $(N_\\theta, N_u)$ sinogram, and backprojects this along a\n",
    "circular geometry. The sinogram is filled with the value $1.0$. Without a filter,\n",
    "like is present in the filtered-backprojection method, this creates a blurred\n",
    "sphere in the backprojected image."
   ],
   "id": "c101c2d99cb22638"
  },
  {
   "metadata": {
    "ExecuteTime": {
     "end_time": "2024-08-08T13:12:13.201444Z",
     "start_time": "2024-08-08T13:12:13.104426Z"
    }
   },
   "cell_type": "code",
   "source": [
    "N_theta, N_u = 128, 32\n",
    "N_x, N_y = 64, 64\n",
    "output = cp.zeros((N_x, N_y), dtype=cp.float32)\n",
    "data = cp.ones((N_theta, N_u), dtype=cp.float32)\n",
    "\n",
    "fan_bp = DemoFanBp()\n",
    "fan_bp.compile()\n",
    "fan_bp(output, data,\n",
    "       angles=cp.linspace(0, 2 * cp.pi, N_theta, False, dtype=cp.float32),\n",
    "       src_dist=150.,\n",
    "       det_dist=150.)\n",
    "\n",
    "plt.figure()\n",
    "plt.imshow(output.get())\n",
    "# the kernel has written in `output`"
   ],
   "id": "2eb17699eabafb1a",
   "outputs": [
    {
     "name": "stdout",
     "output_type": "stream",
     "text": [
      "Compiling kernel DemoFanBp: demo_fan_bp...\n"
     ]
    },
    {
     "data": {
      "text/plain": [
       "<matplotlib.image.AxesImage at 0x7f22e8dca120>"
      ]
     },
     "execution_count": 10,
     "metadata": {},
     "output_type": "execute_result"
    },
    {
     "data": {
      "text/plain": [
       "<Figure size 640x480 with 1 Axes>"
      ],
      "image/png": "[encoded data removed]"
     },
     "metadata": {},
     "output_type": "display_data"
    }
   ],
   "execution_count": 10
  },
  {
   "metadata": {},
   "cell_type": "markdown",
   "source": "## 3. kernelkit.Projector",
   "id": "f63a6b976c45fdd5"
  },
  {
   "metadata": {
    "ExecuteTime": {
     "end_time": "2024-08-08T13:12:15.894718Z",
     "start_time": "2024-08-08T13:12:15.889468Z"
    }
   },
   "cell_type": "code",
   "source": [
    "class DemoFanbeamBackProjector(kernelkit.BaseProjector):\n",
    "    \"\"\"Chunking backprojection for a circular 2D geometry.\"\"\"\n",
    "\n",
    "    def __init__(self, nr_chunks: int):\n",
    "        super(DemoFanbeamBackProjector, self).__init__()\n",
    "        \n",
    "        self._kernel = DemoFanBp()\n",
    "        self._kernel.compile()\n",
    "        assert nr_chunks > 0\n",
    "        self._nr_chunks = nr_chunks\n",
    "        \n",
    "    @property\n",
    "    def projection_geometry(self) -> dict:\n",
    "        return self._geom\n",
    "\n",
    "    @projection_geometry.setter\n",
    "    def projection_geometry(self, geometry: dict):\n",
    "        self._geom = geometry\n",
    "\n",
    "    @property\n",
    "    def volume_geometry(self):\n",
    "        return None\n",
    "\n",
    "    @property\n",
    "    def projection_axes(self) -> tuple:\n",
    "        return 0, 1  # N_theta, N_u\n",
    "\n",
    "    @property\n",
    "    def volume_axes(self) -> tuple:\n",
    "        return 0, 1  # N_x, N_y\n",
    "\n",
    "    @property\n",
    "    def volume(self):\n",
    "        return self._vol\n",
    "\n",
    "    @volume.setter\n",
    "    def volume(self, volume):\n",
    "        self._vol = volume\n",
    "\n",
    "    @property\n",
    "    def projections(self):\n",
    "        return self._projs\n",
    "\n",
    "    @projections.setter\n",
    "    def projections(self, projections):\n",
    "        self._projs = projections\n",
    "\n",
    "    def __call__(self, **kwargs):\n",
    "        # split the projection indices and the geometry angles in chunks\n",
    "        inds = np.array_split(np.arange(len(self._geom['angles'])),\n",
    "                              self._nr_chunks)\n",
    "        angles = np.array_split(self._geom['angles'],\n",
    "                                self._nr_chunks)\n",
    "\n",
    "        # chunk-by-chunk\n",
    "        for inds, angles in zip(inds, angles):\n",
    "            print(f\"Uploading and backprojecting [{inds[0]}, {inds[-1]})...\")\n",
    "\n",
    "            self._kernel(\n",
    "                self.volume,\n",
    "                cp.asarray(self.projections[inds]),  # upload\n",
    "                angles,                              # angular subset\n",
    "                self._geom['src_obj_dist'],\n",
    "                self._geom['obj_det_dist'])\n"
   ],
   "id": "c64def3dfedf98dd",
   "outputs": [],
   "execution_count": 12
  },
  {
   "metadata": {},
   "cell_type": "markdown",
   "source": "Above the concept of a projector is demonstrated, here with functionality to chunk sinogram data. For larger angular data sets, chunking handles GPU memory more economically.  The example below uploads and backproject $N_\\theta$ angles in 7 chunks.",
   "id": "cae272b2b0073fdf"
  },
  {
   "metadata": {
    "ExecuteTime": {
     "end_time": "2024-08-08T13:12:53.201Z",
     "start_time": "2024-08-08T13:12:53.091302Z"
    }
   },
   "cell_type": "code",
   "source": [
    "angles = cp.linspace(0, 2 * cp.pi, 350, endpoint=False, dtype=cp.float32)\n",
    "\n",
    "bp = DemoFanbeamBackProjector(nr_chunks=1)\n",
    "bp.volume = output\n",
    "bp.projections = data\n",
    "bp.projection_geometry = {\n",
    "    'angles': angles, \n",
    "    'src_obj_dist': 400,\n",
    "    'obj_det_dist': 400,}\n",
    "bp()  # invokes __call__\n",
    "\n",
    "plt.figure()\n",
    "plt.imshow(output.get())\n",
    "plt.show()"
   ],
   "id": "d6a4cab424155f9c",
   "outputs": [
    {
     "name": "stdout",
     "output_type": "stream",
     "text": [
      "Compiling kernel DemoFanBp: demo_fan_bp...\n",
      "Uploading and backprojecting [0, 349)...\n"
     ]
    },
    {
     "data": {
      "text/plain": [
       "<Figure size 640x480 with 1 Axes>"
      ],
      "image/png": "[encoded data removed]"
     },
     "metadata": {},
     "output_type": "display_data"
    }
   ],
   "execution_count": 15
  }
 ],
 "metadata": {
  "kernelspec": {
   "display_name": "Python 3",
   "language": "python",
   "name": "python3"
  },
  "language_info": {
   "codemirror_mode": {
    "name": "ipython",
    "version": 2
   },
   "file_extension": ".py",
   "mimetype": "text/x-python",
   "name": "python",
   "nbconvert_exporter": "python",
   "pygments_lexer": "ipython2",
   "version": "2.7.6"
  }
 },
 "nbformat": 4,
 "nbformat_minor": 5
}
